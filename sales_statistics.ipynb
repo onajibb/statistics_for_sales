{
 "cells": [
  {
   "cell_type": "markdown",
   "id": "5b59b8a5-a9a4-4aec-a514-c6e8f9cde007",
   "metadata": {},
   "source": [
    "## Choix de la base de données\n",
    "\n",
    "La base de données est disponible sur Kaggle, il s'agit d'une base données utilisé en Data Analytics"
   ]
  },
  {
   "cell_type": "code",
   "execution_count": 7,
   "id": "8b9b0c01-3d2e-4945-95da-834a7e91c797",
   "metadata": {},
   "outputs": [
    {
     "name": "stdout",
     "output_type": "stream",
     "text": [
      "Index(['ORDERNUMBER', 'QUANTITYORDERED', 'PRICEEACH', 'ORDERLINENUMBER',\n",
      "       'SALES', 'ORDERDATE', 'STATUS', 'QTR_ID', 'MONTH_ID', 'YEAR_ID',\n",
      "       'PRODUCTLINE', 'MSRP', 'PRODUCTCODE', 'CUSTOMERNAME', 'PHONE',\n",
      "       'ADDRESSLINE1', 'ADDRESSLINE2', 'CITY', 'STATE', 'POSTALCODE',\n",
      "       'COUNTRY', 'TERRITORY', 'CONTACTLASTNAME', 'CONTACTFIRSTNAME',\n",
      "       'DEALSIZE'],\n",
      "      dtype='object')\n"
     ]
    }
   ],
   "source": [
    "import pandas as pd \n",
    "filename='./sales_data_sample.csv'\n",
    "pdf = pd.read_csv(filename, sep=\",\", encoding='Latin-1')\n",
    "pdf.head(5)\n",
    "result = pdf.columns\n",
    "print(result)"
   ]
  },
  {
   "cell_type": "raw",
   "id": "697a2a99-1e56-486b-ac03-a320617422ba",
   "metadata": {},
   "source": [
    "J'ai drop les colonnes inutiles pour cet exercice, j'ai gardé l'id du produit , son prix, la quantité commandé, l'id du trimestre, l'id de l'année, la date, et la quantité de sales "
   ]
  },
  {
   "cell_type": "code",
   "execution_count": 3,
   "id": "ccd9f8f9-f6d6-46d9-8c9d-cb441ed7bc73",
   "metadata": {},
   "outputs": [
    {
     "name": "stdout",
     "output_type": "stream",
     "text": [
      "Euro Shopping Channel           259\n",
      "Mini Gifts Distributors Ltd.    180\n",
      "Australian Collectors, Co.       55\n",
      "La Rochelle Gifts                53\n",
      "AV Stores, Co.                   51\n",
      "                               ... \n",
      "Microscale Inc.                  10\n",
      "Royale Belge                      8\n",
      "Auto-Moto Classics Inc.           8\n",
      "Atelier graphique                 7\n",
      "Boards & Toys Co.                 3\n",
      "Name: CUSTOMERNAME, Length: 92, dtype: int64\n",
      "Index(['QUANTITYORDERED', 'PRICEEACH', 'ORDERLINENUMBER', 'SALES', 'ORDERDATE',\n",
      "       'STATUS', 'QTR_ID', 'MONTH_ID', 'YEAR_ID', 'PRODUCTCODE'],\n",
      "      dtype='object')\n"
     ]
    }
   ],
   "source": [
    "df = pdf.drop(columns=['CUSTOMERNAME', 'PHONE',\n",
    "       'ADDRESSLINE1', 'ADDRESSLINE2', 'CITY', 'STATE', 'POSTALCODE',\n",
    "       'COUNTRY', 'TERRITORY', 'CONTACTLASTNAME', 'CONTACTFIRSTNAME',\n",
    "       'DEALSIZE', 'PRODUCTLINE', 'MSRP','ORDERNUMBER'])\n",
    "df.head(5)\n",
    "print(pdf['CUSTOMERNAME'].value_counts()) #predict the next purchase \n",
    "result = df.columns\n",
    "print(result)"
   ]
  },
  {
   "cell_type": "code",
   "execution_count": 4,
   "id": "5172465f-4985-44f3-907a-4ff61602c433",
   "metadata": {},
   "outputs": [
    {
     "data": {
      "text/html": [
       "<div>\n",
       "<style scoped>\n",
       "    .dataframe tbody tr th:only-of-type {\n",
       "        vertical-align: middle;\n",
       "    }\n",
       "\n",
       "    .dataframe tbody tr th {\n",
       "        vertical-align: top;\n",
       "    }\n",
       "\n",
       "    .dataframe thead th {\n",
       "        text-align: right;\n",
       "    }\n",
       "</style>\n",
       "<table border=\"1\" class=\"dataframe\">\n",
       "  <thead>\n",
       "    <tr style=\"text-align: right;\">\n",
       "      <th></th>\n",
       "      <th>QUANTITYORDERED</th>\n",
       "      <th>PRICEEACH</th>\n",
       "      <th>ORDERLINENUMBER</th>\n",
       "      <th>SALES</th>\n",
       "      <th>ORDERDATE</th>\n",
       "      <th>STATUS</th>\n",
       "      <th>QTR_ID</th>\n",
       "      <th>MONTH_ID</th>\n",
       "      <th>YEAR_ID</th>\n",
       "      <th>PRODUCTCODE</th>\n",
       "    </tr>\n",
       "  </thead>\n",
       "  <tbody>\n",
       "    <tr>\n",
       "      <th>0</th>\n",
       "      <td>30</td>\n",
       "      <td>95.70</td>\n",
       "      <td>2</td>\n",
       "      <td>2871.00</td>\n",
       "      <td>2/24/2003 0:00</td>\n",
       "      <td>Shipped</td>\n",
       "      <td>1</td>\n",
       "      <td>2</td>\n",
       "      <td>2003</td>\n",
       "      <td>S10_1678</td>\n",
       "    </tr>\n",
       "    <tr>\n",
       "      <th>1</th>\n",
       "      <td>34</td>\n",
       "      <td>81.35</td>\n",
       "      <td>5</td>\n",
       "      <td>2765.90</td>\n",
       "      <td>5/7/2003 0:00</td>\n",
       "      <td>Shipped</td>\n",
       "      <td>2</td>\n",
       "      <td>5</td>\n",
       "      <td>2003</td>\n",
       "      <td>S10_1678</td>\n",
       "    </tr>\n",
       "    <tr>\n",
       "      <th>2</th>\n",
       "      <td>41</td>\n",
       "      <td>94.74</td>\n",
       "      <td>2</td>\n",
       "      <td>3884.34</td>\n",
       "      <td>7/1/2003 0:00</td>\n",
       "      <td>Shipped</td>\n",
       "      <td>3</td>\n",
       "      <td>7</td>\n",
       "      <td>2003</td>\n",
       "      <td>S10_1678</td>\n",
       "    </tr>\n",
       "    <tr>\n",
       "      <th>3</th>\n",
       "      <td>45</td>\n",
       "      <td>83.26</td>\n",
       "      <td>6</td>\n",
       "      <td>3746.70</td>\n",
       "      <td>8/25/2003 0:00</td>\n",
       "      <td>Shipped</td>\n",
       "      <td>3</td>\n",
       "      <td>8</td>\n",
       "      <td>2003</td>\n",
       "      <td>S10_1678</td>\n",
       "    </tr>\n",
       "    <tr>\n",
       "      <th>4</th>\n",
       "      <td>49</td>\n",
       "      <td>100.00</td>\n",
       "      <td>14</td>\n",
       "      <td>5205.27</td>\n",
       "      <td>10/10/2003 0:00</td>\n",
       "      <td>Shipped</td>\n",
       "      <td>4</td>\n",
       "      <td>10</td>\n",
       "      <td>2003</td>\n",
       "      <td>S10_1678</td>\n",
       "    </tr>\n",
       "    <tr>\n",
       "      <th>...</th>\n",
       "      <td>...</td>\n",
       "      <td>...</td>\n",
       "      <td>...</td>\n",
       "      <td>...</td>\n",
       "      <td>...</td>\n",
       "      <td>...</td>\n",
       "      <td>...</td>\n",
       "      <td>...</td>\n",
       "      <td>...</td>\n",
       "      <td>...</td>\n",
       "    </tr>\n",
       "    <tr>\n",
       "      <th>2797</th>\n",
       "      <td>25</td>\n",
       "      <td>56.78</td>\n",
       "      <td>8</td>\n",
       "      <td>1419.50</td>\n",
       "      <td>2/11/2003 0:00</td>\n",
       "      <td>Shipped</td>\n",
       "      <td>1</td>\n",
       "      <td>2</td>\n",
       "      <td>2003</td>\n",
       "      <td>S72_3212</td>\n",
       "    </tr>\n",
       "    <tr>\n",
       "      <th>2798</th>\n",
       "      <td>50</td>\n",
       "      <td>43.68</td>\n",
       "      <td>2</td>\n",
       "      <td>2184.00</td>\n",
       "      <td>4/16/2003 0:00</td>\n",
       "      <td>Shipped</td>\n",
       "      <td>2</td>\n",
       "      <td>4</td>\n",
       "      <td>2003</td>\n",
       "      <td>S72_3212</td>\n",
       "    </tr>\n",
       "    <tr>\n",
       "      <th>2799</th>\n",
       "      <td>32</td>\n",
       "      <td>64.97</td>\n",
       "      <td>8</td>\n",
       "      <td>2079.04</td>\n",
       "      <td>6/12/2003 0:00</td>\n",
       "      <td>Shipped</td>\n",
       "      <td>2</td>\n",
       "      <td>6</td>\n",
       "      <td>2003</td>\n",
       "      <td>S72_3212</td>\n",
       "    </tr>\n",
       "    <tr>\n",
       "      <th>2800</th>\n",
       "      <td>39</td>\n",
       "      <td>44.23</td>\n",
       "      <td>5</td>\n",
       "      <td>1724.97</td>\n",
       "      <td>8/8/2003 0:00</td>\n",
       "      <td>Shipped</td>\n",
       "      <td>3</td>\n",
       "      <td>8</td>\n",
       "      <td>2003</td>\n",
       "      <td>S72_3212</td>\n",
       "    </tr>\n",
       "    <tr>\n",
       "      <th>2801</th>\n",
       "      <td>50</td>\n",
       "      <td>60.06</td>\n",
       "      <td>4</td>\n",
       "      <td>3003.00</td>\n",
       "      <td>9/28/2003 0:00</td>\n",
       "      <td>Shipped</td>\n",
       "      <td>3</td>\n",
       "      <td>9</td>\n",
       "      <td>2003</td>\n",
       "      <td>S72_3212</td>\n",
       "    </tr>\n",
       "  </tbody>\n",
       "</table>\n",
       "<p>545 rows × 10 columns</p>\n",
       "</div>"
      ],
      "text/plain": [
       "      QUANTITYORDERED  PRICEEACH  ORDERLINENUMBER    SALES        ORDERDATE  \\\n",
       "0                  30      95.70                2  2871.00   2/24/2003 0:00   \n",
       "1                  34      81.35                5  2765.90    5/7/2003 0:00   \n",
       "2                  41      94.74                2  3884.34    7/1/2003 0:00   \n",
       "3                  45      83.26                6  3746.70   8/25/2003 0:00   \n",
       "4                  49     100.00               14  5205.27  10/10/2003 0:00   \n",
       "...               ...        ...              ...      ...              ...   \n",
       "2797               25      56.78                8  1419.50   2/11/2003 0:00   \n",
       "2798               50      43.68                2  2184.00   4/16/2003 0:00   \n",
       "2799               32      64.97                8  2079.04   6/12/2003 0:00   \n",
       "2800               39      44.23                5  1724.97    8/8/2003 0:00   \n",
       "2801               50      60.06                4  3003.00   9/28/2003 0:00   \n",
       "\n",
       "       STATUS  QTR_ID  MONTH_ID  YEAR_ID PRODUCTCODE  \n",
       "0     Shipped       1         2     2003    S10_1678  \n",
       "1     Shipped       2         5     2003    S10_1678  \n",
       "2     Shipped       3         7     2003    S10_1678  \n",
       "3     Shipped       3         8     2003    S10_1678  \n",
       "4     Shipped       4        10     2003    S10_1678  \n",
       "...       ...     ...       ...      ...         ...  \n",
       "2797  Shipped       1         2     2003    S72_3212  \n",
       "2798  Shipped       2         4     2003    S72_3212  \n",
       "2799  Shipped       2         6     2003    S72_3212  \n",
       "2800  Shipped       3         8     2003    S72_3212  \n",
       "2801  Shipped       3         9     2003    S72_3212  \n",
       "\n",
       "[545 rows x 10 columns]"
      ]
     },
     "execution_count": 4,
     "metadata": {},
     "output_type": "execute_result"
    }
   ],
   "source": [
    "df_ = df.groupby(['PRODUCTCODE'])\n",
    "df_.head(5)"
   ]
  },
  {
   "cell_type": "code",
   "execution_count": 5,
   "id": "2f4beacb-7865-4202-88a2-0c4269530666",
   "metadata": {},
   "outputs": [
    {
     "data": {
      "text/plain": [
       "S18_3232    52\n",
       "S10_1949    28\n",
       "S24_1444    28\n",
       "S10_4962    28\n",
       "S24_2840    28\n",
       "            ..\n",
       "S18_1749    22\n",
       "S24_2887    22\n",
       "S24_3969    22\n",
       "S18_4409    22\n",
       "S18_4933    22\n",
       "Name: PRODUCTCODE, Length: 109, dtype: int64"
      ]
     },
     "execution_count": 5,
     "metadata": {},
     "output_type": "execute_result"
    }
   ],
   "source": [
    "df['PRODUCTCODE'].value_counts()"
   ]
  },
  {
   "cell_type": "code",
   "execution_count": 6,
   "id": "812ece99-f371-47ae-a6ea-1775149f372f",
   "metadata": {},
   "outputs": [
    {
     "data": {
      "text/plain": [
       "2004    1345\n",
       "2003    1000\n",
       "2005     478\n",
       "Name: YEAR_ID, dtype: int64"
      ]
     },
     "execution_count": 6,
     "metadata": {},
     "output_type": "execute_result"
    }
   ],
   "source": [
    "df['YEAR_ID'].value_counts()"
   ]
  },
  {
   "cell_type": "raw",
   "id": "3406e91f-6092-43e3-83fe-22c43c8ba082",
   "metadata": {},
   "source": [
    "la base de données comporte 109 produits différents et les données ont été recueillies sur les années 2003, 2004 et 2005"
   ]
  },
  {
   "cell_type": "markdown",
   "id": "43d4c227-2e8f-46f7-a0c1-05373f2aa29e",
   "metadata": {},
   "source": [
    "on peut tracer différents graphes pour visualiser les données à notre disposition : \n",
    "-vente des produit dans l'année 2004, ceci va nous permettre de voir le produit qui se vend le mieux\n",
    "-vente du produit qui se vend le mieux annuellement pendant les 2004, 2003\n",
    "-Prédiction des ventes du produit séléctionnée pour l'année 2005 par une régression linéaire \n",
    "ici les données sur 2003, 2004 sont les données d'entrainement "
   ]
  },
  {
   "cell_type": "markdown",
   "id": "d3b52e75-b971-416e-bbfe-b270acca03a4",
   "metadata": {},
   "source": [
    "## Etude sur l'année 2005 "
   ]
  },
  {
   "cell_type": "code",
   "execution_count": 8,
   "id": "07f3975b-1548-45cb-a092-a084869758fb",
   "metadata": {},
   "outputs": [
    {
     "data": {
      "text/html": [
       "<div>\n",
       "<style scoped>\n",
       "    .dataframe tbody tr th:only-of-type {\n",
       "        vertical-align: middle;\n",
       "    }\n",
       "\n",
       "    .dataframe tbody tr th {\n",
       "        vertical-align: top;\n",
       "    }\n",
       "\n",
       "    .dataframe thead th {\n",
       "        text-align: right;\n",
       "    }\n",
       "</style>\n",
       "<table border=\"1\" class=\"dataframe\">\n",
       "  <thead>\n",
       "    <tr style=\"text-align: right;\">\n",
       "      <th></th>\n",
       "      <th>QUANTITYORDERED</th>\n",
       "      <th>PRICEEACH</th>\n",
       "      <th>ORDERLINENUMBER</th>\n",
       "      <th>SALES</th>\n",
       "      <th>ORDERDATE</th>\n",
       "      <th>STATUS</th>\n",
       "      <th>QTR_ID</th>\n",
       "      <th>MONTH_ID</th>\n",
       "      <th>YEAR_ID</th>\n",
       "      <th>PRODUCTCODE</th>\n",
       "    </tr>\n",
       "  </thead>\n",
       "  <tbody>\n",
       "    <tr>\n",
       "      <th>22</th>\n",
       "      <td>21</td>\n",
       "      <td>34.91</td>\n",
       "      <td>12</td>\n",
       "      <td>733.11</td>\n",
       "      <td>2/3/2005 0:00</td>\n",
       "      <td>Shipped</td>\n",
       "      <td>1</td>\n",
       "      <td>2</td>\n",
       "      <td>2005</td>\n",
       "      <td>S10_1678</td>\n",
       "    </tr>\n",
       "    <tr>\n",
       "      <th>23</th>\n",
       "      <td>42</td>\n",
       "      <td>76.36</td>\n",
       "      <td>4</td>\n",
       "      <td>3207.12</td>\n",
       "      <td>3/3/2005 0:00</td>\n",
       "      <td>Shipped</td>\n",
       "      <td>1</td>\n",
       "      <td>3</td>\n",
       "      <td>2005</td>\n",
       "      <td>S10_1678</td>\n",
       "    </tr>\n",
       "    <tr>\n",
       "      <th>24</th>\n",
       "      <td>24</td>\n",
       "      <td>100.00</td>\n",
       "      <td>7</td>\n",
       "      <td>2434.56</td>\n",
       "      <td>4/8/2005 0:00</td>\n",
       "      <td>Shipped</td>\n",
       "      <td>2</td>\n",
       "      <td>4</td>\n",
       "      <td>2005</td>\n",
       "      <td>S10_1678</td>\n",
       "    </tr>\n",
       "    <tr>\n",
       "      <th>25</th>\n",
       "      <td>66</td>\n",
       "      <td>100.00</td>\n",
       "      <td>2</td>\n",
       "      <td>7516.08</td>\n",
       "      <td>5/13/2005 0:00</td>\n",
       "      <td>Disputed</td>\n",
       "      <td>2</td>\n",
       "      <td>5</td>\n",
       "      <td>2005</td>\n",
       "      <td>S10_1678</td>\n",
       "    </tr>\n",
       "    <tr>\n",
       "      <th>49</th>\n",
       "      <td>41</td>\n",
       "      <td>100.00</td>\n",
       "      <td>2</td>\n",
       "      <td>4514.92</td>\n",
       "      <td>1/20/2005 0:00</td>\n",
       "      <td>Shipped</td>\n",
       "      <td>1</td>\n",
       "      <td>1</td>\n",
       "      <td>2005</td>\n",
       "      <td>S10_1949</td>\n",
       "    </tr>\n",
       "    <tr>\n",
       "      <th>50</th>\n",
       "      <td>36</td>\n",
       "      <td>100.00</td>\n",
       "      <td>3</td>\n",
       "      <td>8254.80</td>\n",
       "      <td>2/17/2005 0:00</td>\n",
       "      <td>Shipped</td>\n",
       "      <td>1</td>\n",
       "      <td>2</td>\n",
       "      <td>2005</td>\n",
       "      <td>S10_1949</td>\n",
       "    </tr>\n",
       "    <tr>\n",
       "      <th>51</th>\n",
       "      <td>24</td>\n",
       "      <td>100.00</td>\n",
       "      <td>4</td>\n",
       "      <td>2416.56</td>\n",
       "      <td>3/9/2005 0:00</td>\n",
       "      <td>Shipped</td>\n",
       "      <td>1</td>\n",
       "      <td>3</td>\n",
       "      <td>2005</td>\n",
       "      <td>S10_1949</td>\n",
       "    </tr>\n",
       "    <tr>\n",
       "      <th>52</th>\n",
       "      <td>23</td>\n",
       "      <td>100.00</td>\n",
       "      <td>9</td>\n",
       "      <td>4140.23</td>\n",
       "      <td>5/1/2005 0:00</td>\n",
       "      <td>Shipped</td>\n",
       "      <td>2</td>\n",
       "      <td>5</td>\n",
       "      <td>2005</td>\n",
       "      <td>S10_1949</td>\n",
       "    </tr>\n",
       "    <tr>\n",
       "      <th>53</th>\n",
       "      <td>50</td>\n",
       "      <td>100.00</td>\n",
       "      <td>6</td>\n",
       "      <td>12001.00</td>\n",
       "      <td>5/31/2005 0:00</td>\n",
       "      <td>In Process</td>\n",
       "      <td>2</td>\n",
       "      <td>5</td>\n",
       "      <td>2005</td>\n",
       "      <td>S10_1949</td>\n",
       "    </tr>\n",
       "    <tr>\n",
       "      <th>76</th>\n",
       "      <td>39</td>\n",
       "      <td>100.00</td>\n",
       "      <td>5</td>\n",
       "      <td>5288.01</td>\n",
       "      <td>2/2/2005 0:00</td>\n",
       "      <td>Shipped</td>\n",
       "      <td>1</td>\n",
       "      <td>2</td>\n",
       "      <td>2005</td>\n",
       "      <td>S10_2016</td>\n",
       "    </tr>\n",
       "    <tr>\n",
       "      <th>77</th>\n",
       "      <td>50</td>\n",
       "      <td>44.51</td>\n",
       "      <td>5</td>\n",
       "      <td>2225.50</td>\n",
       "      <td>3/3/2005 0:00</td>\n",
       "      <td>Shipped</td>\n",
       "      <td>1</td>\n",
       "      <td>3</td>\n",
       "      <td>2005</td>\n",
       "      <td>S10_2016</td>\n",
       "    </tr>\n",
       "    <tr>\n",
       "      <th>78</th>\n",
       "      <td>45</td>\n",
       "      <td>100.00</td>\n",
       "      <td>1</td>\n",
       "      <td>5833.80</td>\n",
       "      <td>4/7/2005 0:00</td>\n",
       "      <td>Shipped</td>\n",
       "      <td>2</td>\n",
       "      <td>4</td>\n",
       "      <td>2005</td>\n",
       "      <td>S10_2016</td>\n",
       "    </tr>\n",
       "    <tr>\n",
       "      <th>79</th>\n",
       "      <td>45</td>\n",
       "      <td>100.00</td>\n",
       "      <td>5</td>\n",
       "      <td>5887.35</td>\n",
       "      <td>5/13/2005 0:00</td>\n",
       "      <td>Disputed</td>\n",
       "      <td>2</td>\n",
       "      <td>5</td>\n",
       "      <td>2005</td>\n",
       "      <td>S10_2016</td>\n",
       "    </tr>\n",
       "    <tr>\n",
       "      <th>101</th>\n",
       "      <td>22</td>\n",
       "      <td>100.00</td>\n",
       "      <td>4</td>\n",
       "      <td>3664.10</td>\n",
       "      <td>1/5/2005 0:00</td>\n",
       "      <td>Shipped</td>\n",
       "      <td>1</td>\n",
       "      <td>1</td>\n",
       "      <td>2005</td>\n",
       "      <td>S10_4698</td>\n",
       "    </tr>\n",
       "    <tr>\n",
       "      <th>102</th>\n",
       "      <td>22</td>\n",
       "      <td>100.00</td>\n",
       "      <td>1</td>\n",
       "      <td>3834.38</td>\n",
       "      <td>2/2/2005 0:00</td>\n",
       "      <td>Shipped</td>\n",
       "      <td>1</td>\n",
       "      <td>2</td>\n",
       "      <td>2005</td>\n",
       "      <td>S10_4698</td>\n",
       "    </tr>\n",
       "    <tr>\n",
       "      <th>103</th>\n",
       "      <td>21</td>\n",
       "      <td>86.77</td>\n",
       "      <td>7</td>\n",
       "      <td>1822.17</td>\n",
       "      <td>3/3/2005 0:00</td>\n",
       "      <td>Shipped</td>\n",
       "      <td>1</td>\n",
       "      <td>3</td>\n",
       "      <td>2005</td>\n",
       "      <td>S10_4698</td>\n",
       "    </tr>\n",
       "    <tr>\n",
       "      <th>104</th>\n",
       "      <td>66</td>\n",
       "      <td>100.00</td>\n",
       "      <td>9</td>\n",
       "      <td>11886.60</td>\n",
       "      <td>4/8/2005 0:00</td>\n",
       "      <td>Shipped</td>\n",
       "      <td>2</td>\n",
       "      <td>4</td>\n",
       "      <td>2005</td>\n",
       "      <td>S10_4698</td>\n",
       "    </tr>\n",
       "    <tr>\n",
       "      <th>105</th>\n",
       "      <td>56</td>\n",
       "      <td>100.00</td>\n",
       "      <td>4</td>\n",
       "      <td>9218.16</td>\n",
       "      <td>5/13/2005 0:00</td>\n",
       "      <td>Disputed</td>\n",
       "      <td>2</td>\n",
       "      <td>5</td>\n",
       "      <td>2005</td>\n",
       "      <td>S10_4698</td>\n",
       "    </tr>\n",
       "    <tr>\n",
       "      <th>128</th>\n",
       "      <td>39</td>\n",
       "      <td>100.00</td>\n",
       "      <td>3</td>\n",
       "      <td>4046.25</td>\n",
       "      <td>1/31/2005 0:00</td>\n",
       "      <td>Shipped</td>\n",
       "      <td>1</td>\n",
       "      <td>1</td>\n",
       "      <td>2005</td>\n",
       "      <td>S10_4757</td>\n",
       "    </tr>\n",
       "    <tr>\n",
       "      <th>129</th>\n",
       "      <td>34</td>\n",
       "      <td>100.00</td>\n",
       "      <td>4</td>\n",
       "      <td>4846.70</td>\n",
       "      <td>2/23/2005 0:00</td>\n",
       "      <td>Shipped</td>\n",
       "      <td>1</td>\n",
       "      <td>2</td>\n",
       "      <td>2005</td>\n",
       "      <td>S10_4757</td>\n",
       "    </tr>\n",
       "  </tbody>\n",
       "</table>\n",
       "</div>"
      ],
      "text/plain": [
       "     QUANTITYORDERED  PRICEEACH  ORDERLINENUMBER     SALES       ORDERDATE  \\\n",
       "22                21      34.91               12    733.11   2/3/2005 0:00   \n",
       "23                42      76.36                4   3207.12   3/3/2005 0:00   \n",
       "24                24     100.00                7   2434.56   4/8/2005 0:00   \n",
       "25                66     100.00                2   7516.08  5/13/2005 0:00   \n",
       "49                41     100.00                2   4514.92  1/20/2005 0:00   \n",
       "50                36     100.00                3   8254.80  2/17/2005 0:00   \n",
       "51                24     100.00                4   2416.56   3/9/2005 0:00   \n",
       "52                23     100.00                9   4140.23   5/1/2005 0:00   \n",
       "53                50     100.00                6  12001.00  5/31/2005 0:00   \n",
       "76                39     100.00                5   5288.01   2/2/2005 0:00   \n",
       "77                50      44.51                5   2225.50   3/3/2005 0:00   \n",
       "78                45     100.00                1   5833.80   4/7/2005 0:00   \n",
       "79                45     100.00                5   5887.35  5/13/2005 0:00   \n",
       "101               22     100.00                4   3664.10   1/5/2005 0:00   \n",
       "102               22     100.00                1   3834.38   2/2/2005 0:00   \n",
       "103               21      86.77                7   1822.17   3/3/2005 0:00   \n",
       "104               66     100.00                9  11886.60   4/8/2005 0:00   \n",
       "105               56     100.00                4   9218.16  5/13/2005 0:00   \n",
       "128               39     100.00                3   4046.25  1/31/2005 0:00   \n",
       "129               34     100.00                4   4846.70  2/23/2005 0:00   \n",
       "\n",
       "         STATUS  QTR_ID  MONTH_ID  YEAR_ID PRODUCTCODE  \n",
       "22      Shipped       1         2     2005    S10_1678  \n",
       "23      Shipped       1         3     2005    S10_1678  \n",
       "24      Shipped       2         4     2005    S10_1678  \n",
       "25     Disputed       2         5     2005    S10_1678  \n",
       "49      Shipped       1         1     2005    S10_1949  \n",
       "50      Shipped       1         2     2005    S10_1949  \n",
       "51      Shipped       1         3     2005    S10_1949  \n",
       "52      Shipped       2         5     2005    S10_1949  \n",
       "53   In Process       2         5     2005    S10_1949  \n",
       "76      Shipped       1         2     2005    S10_2016  \n",
       "77      Shipped       1         3     2005    S10_2016  \n",
       "78      Shipped       2         4     2005    S10_2016  \n",
       "79     Disputed       2         5     2005    S10_2016  \n",
       "101     Shipped       1         1     2005    S10_4698  \n",
       "102     Shipped       1         2     2005    S10_4698  \n",
       "103     Shipped       1         3     2005    S10_4698  \n",
       "104     Shipped       2         4     2005    S10_4698  \n",
       "105    Disputed       2         5     2005    S10_4698  \n",
       "128     Shipped       1         1     2005    S10_4757  \n",
       "129     Shipped       1         2     2005    S10_4757  "
      ]
     },
     "execution_count": 8,
     "metadata": {},
     "output_type": "execute_result"
    }
   ],
   "source": [
    "df_jan = df[df['YEAR_ID'] == 2005]\n",
    "df_jan.groupby(['MONTH_ID'])\n",
    "df_jan.head(20)\n"
   ]
  },
  {
   "cell_type": "code",
   "execution_count": 9,
   "id": "ee0cdc17-0281-4ce9-bac5-889bd72b339b",
   "metadata": {},
   "outputs": [
    {
     "name": "stdout",
     "output_type": "stream",
     "text": [
      "98\n",
      "22       S10_1678\n",
      "49       S10_1949\n",
      "76       S10_2016\n",
      "101      S10_4698\n",
      "128      S10_4757\n",
      "          ...    \n",
      "2713    S700_3505\n",
      "2739    S700_3962\n",
      "2765    S700_4002\n",
      "2792     S72_1253\n",
      "2819     S72_3212\n",
      "Name: PRODUCTCODE, Length: 109, dtype: object\n"
     ]
    },
    {
     "data": {
      "text/plain": [
       "<BarContainer object of 10 artists>"
      ]
     },
     "execution_count": 9,
     "metadata": {},
     "output_type": "execute_result"
    },
    {
     "data": {
      "image/png": "[encoded data removed]",
      "text/plain": [
       "<Figure size 432x288 with 1 Axes>"
      ]
     },
     "metadata": {
      "needs_background": "light"
     },
     "output_type": "display_data"
    }
   ],
   "source": [
    "months = df_jan['MONTH_ID'].value_counts()\n",
    "\n",
    "#test: ventes au mois de janvier\n",
    "df_mask=df_jan['MONTH_ID']==1    \n",
    "sales_jan = df_jan[df_mask]\n",
    "\n",
    "## nombre de produit vendu à l'année 2005\n",
    "count_products = sales_jan['PRODUCTCODE'].value_counts()\n",
    "no_products = count_products.size\n",
    "print(no_products)\n",
    "\n",
    "products = df_jan['PRODUCTCODE'].drop_duplicates()\n",
    "print(products)\n",
    "#liste des produits vendus au mois de J\n",
    "arr_products = products.values\n",
    "\n",
    "sales_products = {};\n",
    "\n",
    "for i in range(no_products): \n",
    "    mask = (df_jan['PRODUCTCODE']==arr_products[i])\n",
    "    sales = df_jan[mask]['SALES'].values \n",
    "    total = sum(sales)\n",
    "    sales_products[arr_products[i]] = total\n",
    "\n",
    "import matplotlib.pyplot as plt\n",
    "import numpy as np\n",
    "firstpairs = {k: sales_products[k] for k in list(sales_products)[:10]}\n",
    "\n",
    "fig = plt.figure()\n",
    "ax = fig.add_axes([0,0,1,1])\n",
    "plt.xlabel(\"product\")\n",
    "plt.ylabel('sales')\n",
    "ax.bar(firstpairs.keys(),firstpairs.values())"
   ]
  },
  {
   "cell_type": "markdown",
   "id": "92335d0f-9fdb-4610-ac97-c4629d8dbc61",
   "metadata": {},
   "source": [
    "on va tracer l'histogramme des 20 différents produits, celui-ci sera en 2D : x : l'id du produit et y : le sales"
   ]
  },
  {
   "cell_type": "markdown",
   "id": "3c7b218b-1a3d-44f8-935b-0a9aa39f527b",
   "metadata": {},
   "source": [
    "cherchons le produit qui s'est le mieux vendu en Janvier 2005 et essayons de faire une prédiction sur la quantité de ses ventes "
   ]
  },
  {
   "cell_type": "code",
   "execution_count": 21,
   "id": "e8fbf74d-b0e8-4700-8179-8538f79d1994",
   "metadata": {},
   "outputs": [
    {
     "name": "stdout",
     "output_type": "stream",
     "text": [
      "S18_3232\n"
     ]
    }
   ],
   "source": [
    "produit = max(sales_products, key=sales_products.get)\n",
    "print(produit)"
   ]
  },
  {
   "cell_type": "markdown",
   "id": "e8b2d543-5f15-42d9-8161-32d24fda1b36",
   "metadata": {},
   "source": [
    "on fera par la suite une prédiction sur ce produit"
   ]
  },
  {
   "cell_type": "markdown",
   "id": "5fce3f75-f093-4b0c-960f-3fca2a90ea39",
   "metadata": {},
   "source": [
    "## Etude année - 2004"
   ]
  },
  {
   "cell_type": "markdown",
   "id": "45e9de6c-fb17-4e93-8c26-9f435c84b95f",
   "metadata": {},
   "source": [
    "total des ventes selon les mois année 2004"
   ]
  },
  {
   "cell_type": "code",
   "execution_count": 11,
   "id": "3748d7dc-30db-4d7b-a209-9d4ba7967762",
   "metadata": {},
   "outputs": [
    {
     "name": "stdout",
     "output_type": "stream",
     "text": [
      "11    301\n",
      "10    159\n",
      "8     133\n",
      "12    110\n",
      "9      95\n",
      "1      91\n",
      "7      91\n",
      "2      86\n",
      "6      85\n",
      "5      74\n",
      "4      64\n",
      "3      56\n",
      "Name: MONTH_ID, dtype: int64\n"
     ]
    }
   ],
   "source": [
    "Feature = df[df['YEAR_ID']==2004]\n",
    "X = Feature\n",
    "\n",
    "print(X['MONTH_ID'].value_counts())\n"
   ]
  },
  {
   "cell_type": "markdown",
   "id": "736a4942-f930-4460-b2d2-09db8b223ef3",
   "metadata": {},
   "source": [
    "il faut calculer les ventes de chaque mois, pour l'année 2004 on ne dispose que de cette information"
   ]
  },
  {
   "cell_type": "code",
   "execution_count": 12,
   "id": "58a5a3c5-ccf0-4cd5-a6a7-018b6aed0039",
   "metadata": {},
   "outputs": [
    {
     "name": "stdout",
     "output_type": "stream",
     "text": [
      "91\n",
      "86\n",
      "56\n",
      "64\n",
      "74\n",
      "85\n",
      "91\n",
      "133\n",
      "95\n",
      "159\n",
      "301\n",
      "110\n"
     ]
    }
   ],
   "source": [
    "arr_months = {}\n",
    "for i in range(12):\n",
    "    intermediaire = X[X['MONTH_ID'] == i+1]\n",
    "    arr = intermediaire['SALES'].tolist()\n",
    "    print(len(arr))\n",
    "    somme = sum(arr)\n",
    "    arr_months[i] = somme"
   ]
  },
  {
   "cell_type": "raw",
   "id": "e9f89082-cc3b-47c8-a8e1-0ff0e8f518d0",
   "metadata": {},
   "source": [
    "nous disposons des totales des ventes des mois de l'année 2005, nous pouvons tracer l'évolution des ventes"
   ]
  },
  {
   "cell_type": "code",
   "execution_count": 13,
   "id": "03c18e9d-a6c5-494f-bad8-67011027465f",
   "metadata": {},
   "outputs": [
    {
     "data": {
      "image/png": "[encoded data removed]",
      "text/plain": [
       "<Figure size 432x288 with 1 Axes>"
      ]
     },
     "metadata": {
      "needs_background": "light"
     },
     "output_type": "display_data"
    }
   ],
   "source": [
    "\n",
    "months = list(arr_months.keys())\n",
    "value = list(arr_months.values())\n",
    "fig = plt.figure()\n",
    "\n",
    "plt.plot(months, value)\n",
    "  \n",
    "# naming the x axis\n",
    "plt.xlabel('Month (xx/2004)')\n",
    "# naming the y axis\n",
    "plt.ylabel('ventes')\n",
    "  \n",
    "# giving a title to my graph\n",
    "plt.title('sales during year 2004')\n",
    "  \n",
    "# function to show the plot\n",
    "plt.show()"
   ]
  },
  {
   "cell_type": "markdown",
   "id": "0c06987b-1422-4bfa-b9fb-fbe9c13f3851",
   "metadata": {},
   "source": [
    "we can see that there is a peak in November, then the sales plummet"
   ]
  },
  {
   "cell_type": "markdown",
   "id": "536d481c-0cb0-41d3-a09b-956acf966c9b",
   "metadata": {},
   "source": [
    "## Prédiction des ventes du produit S18_3232 pour le mois 01/2005\n",
    "\n",
    "Quel sera la quantité vendu du produit S18_3232 pour l'année 2005: \n",
    "ne disposant pas d'assez de features pour une regression linéaire multiple, on se contentera d'une regréssion linéaire simple, le feature sera les ventes précédants\n"
   ]
  },
  {
   "cell_type": "code",
   "execution_count": 14,
   "id": "854ca48f-1da0-44e6-8459-4db5b396e017",
   "metadata": {},
   "outputs": [
    {
     "name": "stdout",
     "output_type": "stream",
     "text": [
      "{12: 5554.4, 13: 6407.86, 14: 4172.52, 15: 7083.37, 16: 7132.68, 17: 10431.29, 18: 8741.15, 19: 16444.99, 20: 2844.87, 21: 20969.079999999998, 22: 20934.57, 23: 10388.48}\n",
      "[5554.4, 6407.86, 4172.52, 7083.37, 7132.68, 10431.29, 8741.15, 16444.99, 2844.87, 20969.079999999998, 20934.57, 10388.48]\n"
     ]
    },
    {
     "data": {
      "text/html": [
       "<div>\n",
       "<style scoped>\n",
       "    .dataframe tbody tr th:only-of-type {\n",
       "        vertical-align: middle;\n",
       "    }\n",
       "\n",
       "    .dataframe tbody tr th {\n",
       "        vertical-align: top;\n",
       "    }\n",
       "\n",
       "    .dataframe thead th {\n",
       "        text-align: right;\n",
       "    }\n",
       "</style>\n",
       "<table border=\"1\" class=\"dataframe\">\n",
       "  <thead>\n",
       "    <tr style=\"text-align: right;\">\n",
       "      <th></th>\n",
       "      <th>SALES</th>\n",
       "      <th>MONTH_ID</th>\n",
       "    </tr>\n",
       "  </thead>\n",
       "  <tbody>\n",
       "    <tr>\n",
       "      <th>1032</th>\n",
       "      <td>5554.40</td>\n",
       "      <td>1</td>\n",
       "    </tr>\n",
       "    <tr>\n",
       "      <th>1033</th>\n",
       "      <td>6407.86</td>\n",
       "      <td>2</td>\n",
       "    </tr>\n",
       "    <tr>\n",
       "      <th>1034</th>\n",
       "      <td>4172.52</td>\n",
       "      <td>3</td>\n",
       "    </tr>\n",
       "    <tr>\n",
       "      <th>1035</th>\n",
       "      <td>7083.37</td>\n",
       "      <td>4</td>\n",
       "    </tr>\n",
       "    <tr>\n",
       "      <th>1036</th>\n",
       "      <td>7132.68</td>\n",
       "      <td>5</td>\n",
       "    </tr>\n",
       "    <tr>\n",
       "      <th>1037</th>\n",
       "      <td>6773.60</td>\n",
       "      <td>6</td>\n",
       "    </tr>\n",
       "    <tr>\n",
       "      <th>1038</th>\n",
       "      <td>3657.69</td>\n",
       "      <td>6</td>\n",
       "    </tr>\n",
       "    <tr>\n",
       "      <th>1039</th>\n",
       "      <td>4812.55</td>\n",
       "      <td>7</td>\n",
       "    </tr>\n",
       "    <tr>\n",
       "      <th>1040</th>\n",
       "      <td>3928.60</td>\n",
       "      <td>7</td>\n",
       "    </tr>\n",
       "    <tr>\n",
       "      <th>1041</th>\n",
       "      <td>6401.22</td>\n",
       "      <td>8</td>\n",
       "    </tr>\n",
       "  </tbody>\n",
       "</table>\n",
       "</div>"
      ],
      "text/plain": [
       "        SALES  MONTH_ID\n",
       "1032  5554.40         1\n",
       "1033  6407.86         2\n",
       "1034  4172.52         3\n",
       "1035  7083.37         4\n",
       "1036  7132.68         5\n",
       "1037  6773.60         6\n",
       "1038  3657.69         6\n",
       "1039  4812.55         7\n",
       "1040  3928.60         7\n",
       "1041  6401.22         8"
      ]
     },
     "execution_count": 14,
     "metadata": {},
     "output_type": "execute_result"
    }
   ],
   "source": [
    "df_S18_3232 = df[df['PRODUCTCODE'] == 'S18_3232']\n",
    "df_S18_3232_2005 = df_S18_3232[df_S18_3232['YEAR_ID'] == 2005][['SALES','MONTH_ID']]\n",
    "df_S18_3232_2003 = df_S18_3232[df_S18_3232['YEAR_ID'] == 2003][['SALES','MONTH_ID']]\n",
    "df_S18_3232_2004 = df_S18_3232[df_S18_3232['YEAR_ID'] == 2004][['SALES','MONTH_ID']]\n",
    "\n",
    "arr_2003 = {}\n",
    "arr_2004 = {}\n",
    "year_2005 = {}\n",
    "\n",
    "\n",
    "for i in range(12): \n",
    "    somme = sum(df_S18_3232_2003[df_S18_3232_2003['MONTH_ID'] == i+1]['SALES'].tolist())\n",
    "    somme1 = sum(df_S18_3232_2004[df_S18_3232_2004['MONTH_ID'] == i+1]['SALES'].tolist())\n",
    "    somme2 = sum(df_S18_3232_2005[df_S18_3232_2005['MONTH_ID'] == i+1]['SALES'].tolist())\n",
    "    arr_2003[i] = somme\n",
    "    arr_2004[i+12] = somme1\n",
    "    year_2005[i] = somme2\n",
    "\n",
    "\n",
    "print(arr_2004)\n",
    "print(list(arr_2004.values()))\n",
    "df_S18_3232_2004.head(10)"
   ]
  },
  {
   "cell_type": "markdown",
   "id": "df14dd85-2e78-4b83-80db-f6a52710384e",
   "metadata": {},
   "source": [
    "On peut tracer l'évolution des ventes temporellement"
   ]
  },
  {
   "cell_type": "code",
   "execution_count": 15,
   "id": "83e04412-8cab-421c-a943-24c07502c4aa",
   "metadata": {},
   "outputs": [
    {
     "data": {
      "image/png": "[encoded data removed]",
      "text/plain": [
       "<Figure size 432x288 with 1 Axes>"
      ]
     },
     "metadata": {
      "needs_background": "light"
     },
     "output_type": "display_data"
    }
   ],
   "source": [
    "time =list(arr_2003.keys())+ list(arr_2004.keys())\n",
    "sales =list(arr_2003.values())+list(arr_2004.values())\n",
    "\n",
    "fig1 = plt.figure()\n",
    "\n",
    "plt.plot(time, sales)\n",
    "  \n",
    "# naming the x axis\n",
    "plt.xlabel('Time')\n",
    "# naming the y axis\n",
    "plt.ylabel('Total sales')\n",
    "  \n",
    "# giving a title to my graph\n",
    "plt.title('sales 2003 - 2004')\n",
    "  \n",
    "# function to show the plot\n",
    "plt.show()"
   ]
  },
  {
   "cell_type": "markdown",
   "id": "4aa5ce46-a926-49b5-aae7-a3c50ed1f06f",
   "metadata": {},
   "source": [
    " # Modèle utilisé : regression linéaire"
   ]
  },
  {
   "cell_type": "code",
   "execution_count": 16,
   "id": "e7b4826e-65f2-4ed7-8a18-4551ac4d90c4",
   "metadata": {},
   "outputs": [
    {
     "name": "stdout",
     "output_type": "stream",
     "text": [
      "[[ 0]\n",
      " [ 1]\n",
      " [ 2]\n",
      " [ 3]\n",
      " [ 4]\n",
      " [ 5]\n",
      " [ 6]\n",
      " [ 7]\n",
      " [ 8]\n",
      " [ 9]\n",
      " [10]\n",
      " [11]\n",
      " [12]\n",
      " [13]\n",
      " [14]\n",
      " [15]\n",
      " [16]\n",
      " [17]\n",
      " [18]\n",
      " [19]\n",
      " [20]\n",
      " [21]\n",
      " [22]\n",
      " [23]]\n"
     ]
    }
   ],
   "source": [
    "from sklearn import linear_model\n",
    "\n",
    "regr = linear_model.LinearRegression()\n",
    "x = list(arr_2003.keys())+ list(arr_2004.keys())\n",
    "x = np.asanyarray(x).reshape(-1,1)\n",
    "y = list(arr_2003.values())+ list(arr_2004.values())\n",
    "y= np.asanyarray(y)\n",
    "regr.fit(x,y)\n",
    "print(x)"
   ]
  },
  {
   "cell_type": "code",
   "execution_count": 120,
   "id": "95597fed-7556-4c49-a5c0-8f53015f80c9",
   "metadata": {},
   "outputs": [
    {
     "name": "stdout",
     "output_type": "stream",
     "text": [
      "[14400.03322464 14775.19841594 15150.36360725 15525.52879855\n",
      " 15900.69398986 16275.85918116 16651.02437246 17026.18956377\n",
      " 17401.35475507 17776.51994638 18151.68513768 18902.01552029]\n"
     ]
    },
    {
     "data": {
      "image/png": "[encoded data removed]",
      "text/plain": [
       "<Figure size 432x288 with 1 Axes>"
      ]
     },
     "metadata": {
      "needs_background": "light"
     },
     "output_type": "display_data"
    }
   ],
   "source": [
    "y_pred = regr.predict([[24], [25], [26], [27], [28], [29], [30], [31],[32], [33],[34],[36]])\n",
    "print(y_pred)\n",
    "y = list(year_2005.values())\n",
    "fig = plt.figure()\n",
    "\n",
    "plt.plot(months, y_pred, 'r')\n",
    "plt.plot(months[:\n",
    "               6], y[:6], 'b') \n",
    "  \n",
    "# naming the x axis\n",
    "plt.xlabel('Month (xx/2005)')\n",
    "# naming the y axis\n",
    "plt.ylabel('Total sales')\n",
    "  \n",
    "# giving a title to my graph\n",
    "plt.title('sales during year 2004')\n",
    "  \n",
    "# function to show the plot\n",
    "plt.show()"
   ]
  },
  {
   "cell_type": "markdown",
   "id": "75c26a76-4ac7-4d7c-9774-3a2a10fedb02",
   "metadata": {},
   "source": [
    "En bleu, les ventes réelles du produit S18_3232 en 2005 et en rouge les prédictions\n",
    "Nous ne disposons pas des ventes réelles après le mois 05, selon les prédictions, celles-ci vont augmenter\n",
    "Cependant, le modèle n'est pas performant, nous disposons de peu de features et de données pour prédire les ventes correctement "
   ]
  }
 ],
 "metadata": {
  "kernelspec": {
   "display_name": "Python 3 (ipykernel)",
   "language": "python",
   "name": "python3"
  },
  "language_info": {
   "codemirror_mode": {
    "name": "ipython",
    "version": 3
   },
   "file_extension": ".py",
   "mimetype": "text/x-python",
   "name": "python",
   "nbconvert_exporter": "python",
   "pygments_lexer": "ipython3",
   "version": "3.9.10"
  }
 },
 "nbformat": 4,
 "nbformat_minor": 5
}
